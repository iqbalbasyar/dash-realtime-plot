{
 "cells": [
  {
   "cell_type": "markdown",
   "metadata": {},
   "source": [
    "# Prerequisites"
   ]
  },
  {
   "cell_type": "markdown",
   "metadata": {},
   "source": [
    "https://towardsdatascience.com/real-time-twitter-sentiment-analysis-for-brand-improvement-and-topic-tracking-chapter-1-3-e02f7652d8ff"
   ]
  },
  {
   "cell_type": "markdown",
   "metadata": {
    "heading_collapsed": true
   },
   "source": [
    "## Install Dependencies"
   ]
  },
  {
   "cell_type": "markdown",
   "metadata": {
    "hidden": true
   },
   "source": [
    "    pip install tweepy\n",
    "    pip install dash #will come with plotly\n",
    "    pip install plotly\n",
    "    pip install textblob"
   ]
  },
  {
   "cell_type": "markdown",
   "metadata": {
    "heading_collapsed": true
   },
   "source": [
    "## Setup Twitter API"
   ]
  },
  {
   "cell_type": "markdown",
   "metadata": {
    "hidden": true
   },
   "source": [
    "Go to [developer.twitter.com](developer.twitter.com) and apply for a developer account and get API credentials. Save the credentials in `credentials.py`"
   ]
  },
  {
   "cell_type": "markdown",
   "metadata": {
    "heading_collapsed": true
   },
   "source": [
    "## Preferences\n",
    "Create `preferences.py` to determine what word/topic, and the settings of database. Let's say we want to frame out `Facebook` and `Google`. "
   ]
  },
  {
   "cell_type": "markdown",
   "metadata": {
    "hidden": true
   },
   "source": [
    "```python \n",
    "TRACK_WORDS = ['Facebook', 'Google]\n",
    "TABLE_NAME = \"fbgoogle\"\n",
    "TABLE_ATTRIBUTES = \"id_str VARCHAR(255), created_at DATETIME, text VARCHAR(255), \\\n",
    "            polarity INT, subjectivity INT, user_created_at VARCHAR(255), user_location VARCHAR(255), \\\n",
    "            user_description VARCHAR(255), user_followers_count INT, longitude DOUBLE, latitude DOUBLE, \\\n",
    "            retweet_count INT, favorite_count INT\"\n",
    "```"
   ]
  },
  {
   "cell_type": "markdown",
   "metadata": {},
   "source": [
    "# Create Streamer to Collect Data"
   ]
  },
  {
   "cell_type": "markdown",
   "metadata": {},
   "source": [
    "![](res/streamer.gif)"
   ]
  },
  {
   "cell_type": "markdown",
   "metadata": {},
   "source": [
    "**Note : See the full code in `streamer.py`.**\n",
    "\n",
    "In order to create a streamer, we need several functionality"
   ]
  },
  {
   "cell_type": "markdown",
   "metadata": {},
   "source": [
    "## Database Initialization"
   ]
  },
  {
   "cell_type": "markdown",
   "metadata": {},
   "source": [
    "We want the data to be stored in a database. So, we need one. This function will create the tables if previously dosn't exist and return the connection"
   ]
  },
  {
   "cell_type": "code",
   "execution_count": 1,
   "metadata": {
    "ExecuteTime": {
     "end_time": "2020-01-19T11:09:43.789677Z",
     "start_time": "2020-01-19T11:09:43.774020Z"
    }
   },
   "outputs": [],
   "source": [
    "def init_database(db_file, table_name, attributes):\n",
    "    qry_check_table = f\"\"\"SELECT count(name) FROM sqlite_master WHERE type='table' AND name='{table_name}'\"\"\"\n",
    "    qry_create_table = f\"\"\"CREATE TABLE {table_name} ({attributes});\"\"\"\n",
    "    conn = None\n",
    "    try:\n",
    "        conn = sqlite3.connect(db_file)\n",
    "        cursor = conn.execute(qry_check_table)\n",
    "        # create table if previously doesn't exists\n",
    "        if cursor.fetchone()[0]==0 : \n",
    "            conn.execute(qry_create_table)\n",
    "        conn.commit()\n",
    "    except Error as e:\n",
    "        raise(e)\n",
    "    finally:\n",
    "        if conn:\n",
    "            return conn"
   ]
  },
  {
   "cell_type": "markdown",
   "metadata": {},
   "source": [
    "## Data Preprocessing"
   ]
  },
  {
   "cell_type": "markdown",
   "metadata": {},
   "source": [
    "Having tweet's text in a raw form might not be a good choice since they might have non-ascii or unnecessary characters. Here's two methods we will use (you can add more) to clean the tweet."
   ]
  },
  {
   "cell_type": "code",
   "execution_count": 2,
   "metadata": {
    "ExecuteTime": {
     "end_time": "2020-01-19T11:12:57.959293Z",
     "start_time": "2020-01-19T11:12:57.943640Z"
    }
   },
   "outputs": [],
   "source": [
    "import re \n",
    "\n",
    "def clean_tweet(tweet): \n",
    "    return ' '.join(re.sub(\"(@[A-Za-z0-9]+)|([^0-9A-Za-z \\t]) \\\n",
    "                            |(\\w+:\\/\\/\\S+)\", \" \", tweet).split()) \n",
    "def to_ascii(text):\n",
    "    if text:\n",
    "        return text.encode('ascii', 'ignore').decode('ascii')\n",
    "    else:\n",
    "        return None"
   ]
  },
  {
   "cell_type": "markdown",
   "metadata": {},
   "source": [
    "## Tweepy StreamListener Override\n",
    "In order to custumize the data received, we will overridee `tweepy.StreamListener` class and add some code on it depends on what we need. "
   ]
  },
  {
   "cell_type": "code",
   "execution_count": 62,
   "metadata": {
    "ExecuteTime": {
     "end_time": "2020-01-12T06:59:31.204391Z",
     "start_time": "2020-01-12T06:59:31.136394Z"
    }
   },
   "outputs": [],
   "source": [
    "from textblob import TextBlob\n",
    "import tweepy\n",
    "\n",
    "import sqlite3\n",
    "from sqlite3 import Error\n",
    "\n",
    "\n",
    "# Override tweepy.StreamListener to add logic to on_status\n",
    "class MyStreamListener(tweepy.StreamListener):\n",
    "\n",
    "    def on_status(self, status):\n",
    "        # Get information of each tweet\n",
    "        # Don't take retweet\n",
    "        if status.retweeted:\n",
    "            return True\n",
    "\n",
    "        id_str = status.id_str\n",
    "        created_at = status.created_at # utc+0\n",
    "        text = to_ascii(status.text)    # Pre-processing the text \n",
    "        text = clean_tweet(text)\n",
    "        sentiment = TextBlob(text).sentiment\n",
    "        polarity = sentiment.polarity\n",
    "        subjectivity = sentiment.subjectivity\n",
    "\n",
    "        user_created_at = status.user.created_at # utc+0\n",
    "        user_location = to_ascii(status.user.location)\n",
    "        user_description = to_ascii(status.user.description)\n",
    "        user_followers_count =status.user.followers_count\n",
    "        longitude = None\n",
    "        latitude = None\n",
    "        if status.coordinates:\n",
    "            longitude = status.coordinates['coordinates'][0]\n",
    "            latitude = status.coordinates['coordinates'][1]\n",
    "\n",
    "        retweet_count = status.retweet_count\n",
    "        favorite_count = status.favorite_count\n",
    "\n",
    "        print(f\"\"\"ID: {id_str}\\tCreated: {created_at}\\tPolarity: {polarity} subjectivity: {subjectivity}\"\"\")\n",
    "\n",
    "        query = sql = f\"INSERT INTO {preferences.TABLE_NAME} \\\n",
    "        (id_str, created_at, text, polarity, subjectivity, user_created_at, user_location, \\\n",
    "        user_description, user_followers_count, longitude, latitude, retweet_count, favorite_count) \\\n",
    "        VALUES (?, ?, ?, ?, ?, ?, ?, ?, ?, ?, ?, ?, ?)\"\n",
    "        \n",
    "        val = (id_str, created_at, text, polarity, subjectivity, user_created_at, user_location, \\\n",
    "                user_description, user_followers_count, longitude, latitude, retweet_count, favorite_count)\n",
    "        \n",
    "        try:\n",
    "            db.execute(query, val)\n",
    "        except Error as e: \n",
    "            raise(e)\n",
    "        finally:\n",
    "            db.commit()\n",
    "    \n",
    "    def on_error(self, status_code):\n",
    "        if status_code == 420:\n",
    "            # return False to disconnect the stream\n",
    "            return False"
   ]
  },
  {
   "cell_type": "markdown",
   "metadata": {},
   "source": [
    "## main streamer"
   ]
  },
  {
   "cell_type": "markdown",
   "metadata": {},
   "source": [
    "Use all the functions above by initiate the stream activity"
   ]
  },
  {
   "cell_type": "code",
   "execution_count": 63,
   "metadata": {
    "ExecuteTime": {
     "end_time": "2020-01-12T06:59:32.864248Z",
     "start_time": "2020-01-12T06:59:32.849374Z"
    }
   },
   "outputs": [],
   "source": [
    "import credentials \n",
    "import preferences \n",
    "import re\n",
    "from textblob import TextBlob\n",
    "import tweepy\n",
    "\n",
    "import sqlite3\n",
    "from sqlite3 import Error\n",
    "\n",
    "auth  = tweepy.OAuthHandler(credentials.API_KEY, credentials.API_SECRET_KEY)\n",
    "auth.set_access_token(credentials.ACCESS_TOKEN, credentials.ACCESS_TOKEN_SECRET)\n",
    "api = tweepy.API(auth)\n",
    "\n",
    "db = init_database('tes.db', preferences.TABLE_NAME, preferences.TABLE_ATTRIBUTES)\n",
    "myStreamListener = MyStreamListener()\n",
    "myStream = tweepy.Stream(auth = api.auth, listener = myStreamListener)\n",
    "myStream.filter(languages=[\"en\"], track = preferences.TRACK_WORDS)"
   ]
  },
  {
   "cell_type": "markdown",
   "metadata": {},
   "source": [
    "# Create Web for Data Visualization"
   ]
  },
  {
   "cell_type": "markdown",
   "metadata": {},
   "source": [
    "**Note: Full code in `server.py`** \\\n",
    "This is the core of this application. However, it might be seem complex due to combination between UI and Processes. But Here's the framework. There are 2 main part : `app.layout` to generalize the shape and components of the web, and `callbacks` to periodically do something to the web if certain condition happened. Please take a look on this code:"
   ]
  },
  {
   "cell_type": "markdown",
   "metadata": {},
   "source": [
    "![](res/web.gif)"
   ]
  },
  {
   "cell_type": "code",
   "execution_count": null,
   "metadata": {},
   "outputs": [],
   "source": [
    "import credentials, preferences\n",
    "import dash\n",
    "import dash_core_components as dcc\n",
    "import dash_html_components as html\n",
    "from dash.dependencies import Input, Output\n",
    "import plotly.graph_objs as go\n",
    "import pandas as pd\n",
    "import pytz\n",
    "import sqlite3\n",
    "import datetime\n",
    "\n",
    "external_stylesheets = ['https://codepen.io/chriddyp/pen/bWLwgP.css']\n",
    "\n",
    "app = dash.Dash(__name__, external_stylesheets=external_stylesheets)\n",
    "app.title = 'Live Twitter Visualization'\n",
    "\n",
    "server = app.server\n",
    "\n",
    "app.layout = html.Div(children=[\n",
    "    html.H2('Live Tweet Sentiment Dashboard', style={'textAlign': 'center'}),\n",
    "    html.Div(id='live-update-graph'), # Here's where your visualization will be placed\n",
    "    dcc.Interval(\n",
    "        id='interval-component-slow',\n",
    "        interval=5*1000, # in milliseconds\n",
    "        n_intervals=0\n",
    "    )\n",
    "    ], style={'padding': '20px'})\n",
    "\n",
    "\n",
    "# Update graph everytime interval is fired\n",
    "@app.callback(Output('live-update-graph', 'children'),\n",
    "              [Input('interval-component-slow', 'n_intervals')])\n",
    "def update_graph_live():\n",
    "    # TODO: Define children\n",
    "    return children\n",
    "\n",
    "if __name__ == '__main__':\n",
    "    app.run_server(debug=True)"
   ]
  },
  {
   "cell_type": "markdown",
   "metadata": {},
   "source": [
    "The `app.layout` part consisted of 2 html components and 1 dash core components. The 2 HTML components are Titles, and an **empty** div to contain the graph later. the core componens are `dcc.Interval`, an object that fired every specific interfal. This will be useful since we want the graph to be updated every particular time. \n",
    "\n",
    "The `callbacks` part is right on the line 31-35. We define a callback that will output to `live-update-graph` html components with the values of `children`, and takes input (a trigger) from dash core components `dcc.Interval`. Bsaically, every interval passed, the method in this callback will be called. And the method is `update_graph_live)`. The details of how you will do the visualization is up to you, but here's an example of mine"
   ]
  },
  {
   "cell_type": "code",
   "execution_count": null,
   "metadata": {},
   "outputs": [],
   "source": [
    "def update_graph_live(n):\n",
    "\n",
    "    # 1. Create Database Connection\n",
    "    db = sqlite3.connect('fbgoogle.db')\n",
    "\n",
    "    # 2. Query the data \n",
    "    tz_gmt = pytz.timezone('GMT+0')\n",
    "    time_diff = datetime.timedelta(minutes=15)\n",
    "    now = pd.datetime.now(tz=tz_gmt)\n",
    "    last_5min = now-time_diff\n",
    "    last_10min = now-time_diff*2\n",
    "\n",
    "    query = f\"\"\"SELECT id_str, created_at, polarity, user_location, text FROM {preferences.TABLE_NAME} WHERE created_at >= '{last_10min}' AND created_at <= '{now}';\"\"\"\n",
    "\n",
    "    df10 = pd.read_sql(query, con=db, parse_dates='created_at')\n",
    "    df10['created_at'] = df10['created_at'].dt.tz_localize('GMT+0')\n",
    "    df = df10[df10['created_at'] > last_5min ]\n",
    "\n",
    "    # 3. Apply Preprocessing for Area Plot\n",
    "    result = df.copy()\n",
    "    result['sentiment'] = df['polarity'].apply(to_sentiment)\n",
    "    result = result.join(pd.get_dummies(result['sentiment']))\n",
    "    result['total_tweets'] = result[['positive', 'negative', 'neutral']].sum(axis=1)\n",
    "    result = result.set_index('created_at').resample('5S').agg({\n",
    "        'positive':sum,\n",
    "        'neutral':sum,\n",
    "        'negative':sum,\n",
    "        'total_tweets':sum,\n",
    "    })\n",
    "\n",
    "\n",
    "    # Create the graph html object\n",
    "    children = [\n",
    "                html.Div([\n",
    "                    # Line Plot\n",
    "                    html.Div([\n",
    "                        dcc.Graph(\n",
    "                            id='line-plot',\n",
    "                            figure={\n",
    "                                'data': [\n",
    "                                    go.Scatter(\n",
    "                                        x=result.index,\n",
    "                                        y=result['neutral'] ,\n",
    "                                        name='Neutrals',\n",
    "                                        opacity=0.8,\n",
    "                                        mode='lines',\n",
    "                                        line=dict(shape='spline', smoothing=0.5, width=0.5, color='#323232'),\n",
    "                                        stackgroup='one'\n",
    "                                    ),\n",
    "                                    go.Scatter(\n",
    "                                        x=result.index,\n",
    "                                        y=result['negative']*-1,\n",
    "                                        name='Negatives',\n",
    "                                        opacity=0.8,\n",
    "                                        mode='lines',\n",
    "                                        line=dict(shape='spline', smoothing=0.5, width=0.5, color='#891921'),\n",
    "                                        stackgroup='two'\n",
    "                                    ),\n",
    "                                    go.Scatter(\n",
    "                                        x=result.index,\n",
    "                                        y=result['positive'] ,\n",
    "                                        name='Positives',\n",
    "                                        opacity=0.8,\n",
    "                                        mode='lines',\n",
    "                                        line=dict(shape='spline', smoothing=0.5, width=0.5, color='#119dff'),\n",
    "                                        stackgroup='three'\n",
    "                                    )\n",
    "                                ],\n",
    "                                'layout':{\n",
    "                                    'showlegend':False,\n",
    "                                    'title':'Number of Tweets in 15min',\n",
    "                                }\n",
    "                            }\n",
    "                        )\n",
    "                    ], style={'width': '73%', 'display': 'inline-block', 'padding': '0 0 0 20'}),\n",
    "                    \n",
    "                    # Pie Plot\n",
    "                    html.Div([\n",
    "                        dcc.Graph(\n",
    "                            id='pie-chart',\n",
    "                            figure={\n",
    "                                'data': [\n",
    "                                    go.Pie(\n",
    "                                        labels=['Positives', 'Negatives', 'Neutrals'], \n",
    "                                        values=[result['positive'].sum(), result['negative'].sum(), result['neutral'].sum()],\n",
    "                                        marker_colors=['#119dff','#891921','#323232'],\n",
    "                                        opacity=0.8,\n",
    "                                        textinfo='value',\n",
    "                                        hole=.65)\n",
    "                                ],\n",
    "                                'layout':{\n",
    "                                    'showlegend':True,\n",
    "                                    'title':'Tweets Percentage',\n",
    "                                    'annotations':[\n",
    "                                        dict(\n",
    "                                            text='{0:.1f}K'.format(result[['positive', 'negative', 'neutral']].sum().sum()/1000),\n",
    "                                            font=dict(\n",
    "                                                size=40\n",
    "                                            ),\n",
    "                                            showarrow=False\n",
    "                                        )\n",
    "                                    ]\n",
    "                                }\n",
    "\n",
    "                            }\n",
    "                        )\n",
    "                    ], style={'width': '27%', 'display': 'inline-block'})\n",
    "                    \n",
    "                ]),\n",
    "                \n",
    "            ]\n",
    "    return children"
   ]
  },
  {
   "cell_type": "code",
   "execution_count": null,
   "metadata": {},
   "outputs": [],
   "source": []
  }
 ],
 "metadata": {
  "hide_input": false,
  "kernelspec": {
   "display_name": "Python 3",
   "language": "python",
   "name": "python3"
  },
  "language_info": {
   "codemirror_mode": {
    "name": "ipython",
    "version": 3
   },
   "file_extension": ".py",
   "mimetype": "text/x-python",
   "name": "python",
   "nbconvert_exporter": "python",
   "pygments_lexer": "ipython3",
   "version": "3.7.4"
  },
  "latex_envs": {
   "LaTeX_envs_menu_present": true,
   "autoclose": true,
   "autocomplete": true,
   "bibliofile": "biblio.bib",
   "cite_by": "apalike",
   "current_citInitial": 1,
   "eqLabelWithNumbers": true,
   "eqNumInitial": 1,
   "hotkeys": {
    "equation": "Ctrl-E",
    "itemize": "Ctrl-I"
   },
   "labels_anchors": false,
   "latex_user_defs": false,
   "report_style_numbering": false,
   "user_envs_cfg": false
  },
  "toc": {
   "base_numbering": 1,
   "nav_menu": {},
   "number_sections": true,
   "sideBar": true,
   "skip_h1_title": false,
   "title_cell": "Table of Contents",
   "title_sidebar": "Contents",
   "toc_cell": false,
   "toc_position": {
    "height": "calc(100% - 180px)",
    "left": "10px",
    "top": "150px",
    "width": "384px"
   },
   "toc_section_display": true,
   "toc_window_display": true
  },
  "varInspector": {
   "cols": {
    "lenName": 16,
    "lenType": 16,
    "lenVar": 40
   },
   "kernels_config": {
    "python": {
     "delete_cmd_postfix": "",
     "delete_cmd_prefix": "del ",
     "library": "var_list.py",
     "varRefreshCmd": "print(var_dic_list())"
    },
    "r": {
     "delete_cmd_postfix": ") ",
     "delete_cmd_prefix": "rm(",
     "library": "var_list.r",
     "varRefreshCmd": "cat(var_dic_list()) "
    }
   },
   "types_to_exclude": [
    "module",
    "function",
    "builtin_function_or_method",
    "instance",
    "_Feature"
   ],
   "window_display": false
  }
 },
 "nbformat": 4,
 "nbformat_minor": 2
}
